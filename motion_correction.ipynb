{
 "cells": [
  {
   "cell_type": "code",
   "execution_count": null,
   "id": "21c8bcf1",
   "metadata": {},
   "outputs": [],
   "source": [
    "import cupy\n",
    "import sigpy as sp\n",
    "import torch\n",
    "from motion_correction_mslr26 import gen_MSLR,gen_template, adj_field_solver,for_field_solver,train_interp_field, MultiScaleLowRankRecona, MultiScaleLowRankRecon"
   ]
  },
  {
   "cell_type": "code",
   "execution_count": null,
   "id": "0f52449a",
   "metadata": {},
   "outputs": [],
   "source": [
    "#generate low resolution template image\n",
    "spokes_per_bin=ksp.shape[1]//500\n",
    "RO=150\n",
    "im_testa,mps0,kspa,coorda,dcfa=gen_template(ksp,coord,dcf,RO,spokes_per_bin)"
   ]
  },
  {
   "cell_type": "code",
   "execution_count": null,
   "id": "4ff4b5fd",
   "metadata": {},
   "outputs": [],
   "source": [
    "#solve template-->motion fields\n",
    "T=500\n",
    "rank=1\n",
    "scale=1\n",
    "block_size_adj=[20,40,60]\n",
    "block_size_for=block_size_adj\n",
    "T=500\n",
    "rank=1\n",
    "scale=1\n",
    "deformL_param_adj0,deformR_param_adj0,deformL_param_for0,deformR_param_for0,block_torch0,ishape0a=gen_MSLR(T,rank,block_size_adj,block_size_for,scale,mps0)\n",
    "iter_adj=30\n",
    "all0=np.abs(im_testa).max()\n",
    "im_testa=np.reshape(im_testa,[1,mps0.shape[1],mps0.shape[2],mps0.shape[3]])\n",
    "adj_field_solver(deformL_param_adj0,deformR_param_adj0,deformL_param_for0,deformR_param_for0,(im_testa)/all0,kspa/all0,coorda,dcfa,mps0,iter_adj,RO,block_torch0,ishape0a,0,T,1,mps0,spokes_per_bin,20,10)\n",
    "for i in range(3):\n",
    "    np.save('deformL_param_adj0IPF'+str(i),deformL_param_adj0[i].detach().cpu().numpy())\n",
    "    np.save('deformR_param_adj0IPF'+str(i),deformR_param_adj0[i].detach().cpu().numpy())\n",
    "\n",
    "    "
   ]
  },
  {
   "cell_type": "code",
   "execution_count": null,
   "id": "52d9317e",
   "metadata": {},
   "outputs": [],
   "source": [
    "#generate full resolution template image\n",
    "RO=ksp.shape[2]\n",
    "im_template,mps1,kspa,coorda,dcfa=gen_template(ksp,coord,dcf,RO,spokes_per_bin)  \n",
    "scale=3\n",
    "high_res_inter=3\n",
    "deformL_param_adj1,deformR_param_adj1,deformL_param_for1,deformR_param_for1,block_torch1,ishape1a=gen_MSLR(T,rank,block_size_adj,block_size_for,scale,mps1)\n",
    "\n",
    "#interpolate low resolution deformation fields-->full resolution deformation fields\n",
    "old_res=mps0\n",
    "new_res=mps1\n",
    "iter=30\n",
    "import random\n",
    "high_res_interp=3\n",
    "deformL_param_adj=[]\n",
    "deformR_param_adj=[]\n",
    "for i in range(3):\n",
    "    deformL_param_adj.append(torch.from_numpy(deformL_param_adj0[i].detach().cpu().numpy()).cuda())\n",
    "    deformR_param_adj.append(torch.from_numpy(deformR_param_adj0[i].detach().cpu().numpy()).cuda())\n",
    "train_interp_field(im_template,new_res,old_res,deformL_param_adj,deformR_param_adj,deformL_param_adj1,deformR_param_adj1,deformL_param_for0,deformR_param_for0,deformL_param_for1,deformR_param_for1,iter,T,block_torch0,ishape0a,block_torch1,ishape1a,high_res_interp)\n",
    "for i in range(3):\n",
    "    np.save('deformL_param_adj1IPF'+str(i),deformL_param_adj1[i].detach().cpu().numpy())\n",
    "    np.save('deformR_param_adj1IPF'+str(i),deformR_param_adj1[i].detach().cpu().numpy())\n"
   ]
  },
  {
   "cell_type": "code",
   "execution_count": null,
   "id": "da4fbb5e",
   "metadata": {},
   "outputs": [],
   "source": [
    "#solve for full resolution forward motion fields (aligned to one another)  \n",
    "deformL_param_adja=[]\n",
    "deformR_param_adja=[]\n",
    "for i in range(3):\n",
    "    deformL_param_adja.append(torch.from_numpy(np.load('deformL_param_adj1IPF'+str(i)+'.npy','r+')).cuda())\n",
    "    deformR_param_adja.append(torch.from_numpy(np.load('deformR_param_adj1IPF'+str(i)+'.npy','r+')).cuda())\n",
    "#from motion_correction_mslr18 import MultiScaleLowRankRecon,normalize,kspace_scaling,for_field_solver\n",
    "\n",
    "\n",
    "all0=np.abs(im_testa).max()\n",
    "iter=50\n",
    "for_field_solver(deformL_param_adja,deformR_param_adja,deformL_param_for1,deformR_param_for1,im_testa/all0,mps1,iter,block_torch1,ishape1a,0,500,3,mps1,weight_MSE=1e-1)\n",
    "\n"
   ]
  },
  {
   "cell_type": "code",
   "execution_count": null,
   "id": "82679019",
   "metadata": {},
   "outputs": [],
   "source": [
    "#Motion Corrected MSLR recon\n",
    "L,R=MultiScaleLowRankRecon(kspa[:,:,:], coorda[:,:], dcfa[:,:], mps1, 500, 1e-8, ishape1a,deformL_param_adj1 , deformR_param_adj1,deformL_param_for1,deformR_param_for1,block_torch1,\n",
    "             blk_widths=[64,128], alpha=1, beta=.5,sgw=None,\n",
    "             device=0, comm=None, seed=0,\n",
    "             max_epoch=20, decay_epoch=20, max_power_iter=5,\n",
    "             show_pbar=True).run()"
   ]
  }
 ],
 "metadata": {
  "kernelspec": {
   "display_name": "Python 3",
   "language": "python",
   "name": "python3"
  },
  "language_info": {
   "codemirror_mode": {
    "name": "ipython",
    "version": 3
   },
   "file_extension": ".py",
   "mimetype": "text/x-python",
   "name": "python",
   "nbconvert_exporter": "python",
   "pygments_lexer": "ipython3",
   "version": "3.6.9"
  }
 },
 "nbformat": 4,
 "nbformat_minor": 5
}
